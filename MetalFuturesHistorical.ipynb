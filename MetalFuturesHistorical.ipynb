{
 "cells": [
  {
   "cell_type": "code",
   "execution_count": 1,
   "metadata": {},
   "outputs": [
    {
     "data": {
      "text/html": [
       "<div>\n",
       "<style scoped>\n",
       "    .dataframe tbody tr th:only-of-type {\n",
       "        vertical-align: middle;\n",
       "    }\n",
       "\n",
       "    .dataframe tbody tr th {\n",
       "        vertical-align: top;\n",
       "    }\n",
       "\n",
       "    .dataframe thead th {\n",
       "        text-align: right;\n",
       "    }\n",
       "</style>\n",
       "<table border=\"1\" class=\"dataframe\">\n",
       "  <thead>\n",
       "    <tr style=\"text-align: right;\">\n",
       "      <th></th>\n",
       "      <th>Date</th>\n",
       "      <th>Price</th>\n",
       "      <th>Open</th>\n",
       "      <th>High</th>\n",
       "      <th>Low</th>\n",
       "      <th>Vol.</th>\n",
       "      <th>Change %</th>\n",
       "      <th>Commodity</th>\n",
       "      <th>US CPI</th>\n",
       "      <th>China CPI</th>\n",
       "      <th>US PMI</th>\n",
       "      <th>China PMI</th>\n",
       "    </tr>\n",
       "  </thead>\n",
       "  <tbody>\n",
       "    <tr>\n",
       "      <th>0</th>\n",
       "      <td>2023-08-31</td>\n",
       "      <td>25,396.00</td>\n",
       "      <td>25,300.00</td>\n",
       "      <td>25,150.00</td>\n",
       "      <td>25,110.00</td>\n",
       "      <td>1.25K</td>\n",
       "      <td>-0.31%</td>\n",
       "      <td>Tin</td>\n",
       "      <td>140.801768</td>\n",
       "      <td>103.2</td>\n",
       "      <td>47.6</td>\n",
       "      <td>49.7</td>\n",
       "    </tr>\n",
       "    <tr>\n",
       "      <th>1</th>\n",
       "      <td>2023-08-30</td>\n",
       "      <td>25,475.00</td>\n",
       "      <td>25,400.00</td>\n",
       "      <td>25,300.00</td>\n",
       "      <td>25,325.00</td>\n",
       "      <td>1.27K</td>\n",
       "      <td>0.32%</td>\n",
       "      <td>Tin</td>\n",
       "      <td>140.801768</td>\n",
       "      <td>103.2</td>\n",
       "      <td>47.6</td>\n",
       "      <td>49.7</td>\n",
       "    </tr>\n",
       "    <tr>\n",
       "      <th>2</th>\n",
       "      <td>2023-08-29</td>\n",
       "      <td>25,395.00</td>\n",
       "      <td>25,200.00</td>\n",
       "      <td>25,050.00</td>\n",
       "      <td>25,055.00</td>\n",
       "      <td>1.32K</td>\n",
       "      <td>-0.40%</td>\n",
       "      <td>Tin</td>\n",
       "      <td>140.801768</td>\n",
       "      <td>103.2</td>\n",
       "      <td>47.6</td>\n",
       "      <td>49.7</td>\n",
       "    </tr>\n",
       "    <tr>\n",
       "      <th>3</th>\n",
       "      <td>2023-08-25</td>\n",
       "      <td>25,497.00</td>\n",
       "      <td>25,600.00</td>\n",
       "      <td>25,500.00</td>\n",
       "      <td>25,575.00</td>\n",
       "      <td>0.59K</td>\n",
       "      <td>-1.44%</td>\n",
       "      <td>Tin</td>\n",
       "      <td>140.801768</td>\n",
       "      <td>103.2</td>\n",
       "      <td>47.6</td>\n",
       "      <td>49.7</td>\n",
       "    </tr>\n",
       "    <tr>\n",
       "      <th>4</th>\n",
       "      <td>2023-08-24</td>\n",
       "      <td>25,870.00</td>\n",
       "      <td>25,900.00</td>\n",
       "      <td>25,825.00</td>\n",
       "      <td>25,850.00</td>\n",
       "      <td>0.39K</td>\n",
       "      <td>-0.98%</td>\n",
       "      <td>Tin</td>\n",
       "      <td>140.801768</td>\n",
       "      <td>103.2</td>\n",
       "      <td>47.6</td>\n",
       "      <td>49.7</td>\n",
       "    </tr>\n",
       "  </tbody>\n",
       "</table>\n",
       "</div>"
      ],
      "text/plain": [
       "         Date      Price       Open       High        Low   Vol. Change %  \\\n",
       "0  2023-08-31  25,396.00  25,300.00  25,150.00  25,110.00  1.25K   -0.31%   \n",
       "1  2023-08-30  25,475.00  25,400.00  25,300.00  25,325.00  1.27K    0.32%   \n",
       "2  2023-08-29  25,395.00  25,200.00  25,050.00  25,055.00  1.32K   -0.40%   \n",
       "3  2023-08-25  25,497.00  25,600.00  25,500.00  25,575.00  0.59K   -1.44%   \n",
       "4  2023-08-24  25,870.00  25,900.00  25,825.00  25,850.00  0.39K   -0.98%   \n",
       "\n",
       "  Commodity      US CPI  China CPI  US PMI  China PMI  \n",
       "0       Tin  140.801768      103.2    47.6       49.7  \n",
       "1       Tin  140.801768      103.2    47.6       49.7  \n",
       "2       Tin  140.801768      103.2    47.6       49.7  \n",
       "3       Tin  140.801768      103.2    47.6       49.7  \n",
       "4       Tin  140.801768      103.2    47.6       49.7  "
      ]
     },
     "execution_count": 1,
     "metadata": {},
     "output_type": "execute_result"
    }
   ],
   "source": [
    "import numpy as np\n",
    "import pandas as pd\n",
    "import os\n",
    "from itertools import product\n",
    "import datetime as dt\n",
    "\n",
    "import matplotlib.pyplot as plt\n",
    "import seaborn as sns\n",
    "from statsmodels.graphics.tsaplots import plot_acf\n",
    "\n",
    "from statsmodels.tsa.stattools import adfuller\n",
    "\n",
    "from sklearn.pipeline import Pipeline\n",
    "from sklearn.preprocessing import StandardScaler\n",
    "from sklearn.ensemble import RandomForestRegressor, GradientBoostingRegressor, HistGradientBoostingRegressor\n",
    "from sklearn.metrics import mean_absolute_error\n",
    "\n",
    "\n",
    "dataset=pd.read_csv(\"/Users/alishadaredia/Desktop/Ryerson - Arif/CIND820/Price dataset/BaseMetalPricePrediction.csv\")\n",
    "dataset.describe()\n",
    "dataset.head()"
   ]
  },
  {
   "cell_type": "code",
   "execution_count": 2,
   "metadata": {},
   "outputs": [
    {
     "name": "stdout",
     "output_type": "stream",
     "text": [
      "<class 'pandas.core.frame.DataFrame'>\n",
      "RangeIndex: 14928 entries, 0 to 14927\n",
      "Data columns (total 12 columns):\n",
      " #   Column     Non-Null Count  Dtype  \n",
      "---  ------     --------------  -----  \n",
      " 0   Date       14928 non-null  object \n",
      " 1   Price      14928 non-null  object \n",
      " 2   Open       14928 non-null  object \n",
      " 3   High       14928 non-null  object \n",
      " 4   Low        14928 non-null  object \n",
      " 5   Vol.       7661 non-null   object \n",
      " 6   Change %   14928 non-null  object \n",
      " 7   Commodity  14928 non-null  object \n",
      " 8   US CPI     14928 non-null  float64\n",
      " 9   China CPI  14928 non-null  float64\n",
      " 10  US PMI     14928 non-null  float64\n",
      " 11  China PMI  14928 non-null  float64\n",
      "dtypes: float64(4), object(8)\n",
      "memory usage: 1.4+ MB\n"
     ]
    }
   ],
   "source": [
    "dataset.info()\n"
   ]
  },
  {
   "cell_type": "code",
   "execution_count": 3,
   "metadata": {},
   "outputs": [
    {
     "name": "stdout",
     "output_type": "stream",
     "text": [
      "<class 'pandas.core.frame.DataFrame'>\n",
      "RangeIndex: 14928 entries, 0 to 14927\n",
      "Data columns (total 12 columns):\n",
      " #   Column     Non-Null Count  Dtype         \n",
      "---  ------     --------------  -----         \n",
      " 0   Date       14928 non-null  datetime64[ns]\n",
      " 1   Price      14928 non-null  float64       \n",
      " 2   Open       14928 non-null  float64       \n",
      " 3   High       14928 non-null  float64       \n",
      " 4   Low        14928 non-null  float64       \n",
      " 5   Vol.       7661 non-null   object        \n",
      " 6   Change %   14928 non-null  object        \n",
      " 7   Commodity  14928 non-null  object        \n",
      " 8   US CPI     14928 non-null  float64       \n",
      " 9   China CPI  14928 non-null  float64       \n",
      " 10  US PMI     14928 non-null  float64       \n",
      " 11  China PMI  14928 non-null  float64       \n",
      "dtypes: datetime64[ns](1), float64(8), object(3)\n",
      "memory usage: 1.4+ MB\n"
     ]
    }
   ],
   "source": [
    "dataset[\"Date\"] = dataset[\"Date\"].astype('datetime64[ns]')\n",
    "dataset[\"Price\"] = dataset[\"Price\"].str.replace(\",\", \"\")\n",
    "dataset[\"Open\"] = dataset[\"Open\"].str.replace(\",\", \"\")\n",
    "dataset[\"High\"] = dataset[\"High\"].str.replace(\",\", \"\")\n",
    "dataset[\"Low\"] = dataset[\"Low\"].str.replace(\",\", \"\")\n",
    "\n",
    "dataset[\"Price\"] = dataset[\"Price\"].astype('float64')\n",
    "dataset[\"Open\"] = dataset[\"Open\"].astype('float64')\n",
    "dataset[\"High\"] = dataset[\"High\"].astype('float64')\n",
    "dataset[\"Low\"] = dataset[\"Low\"].astype('float64')\n",
    "dataset.info()\n"
   ]
  },
  {
   "cell_type": "code",
   "execution_count": 4,
   "metadata": {},
   "outputs": [
    {
     "data": {
      "text/html": [
       "<div>\n",
       "<style scoped>\n",
       "    .dataframe tbody tr th:only-of-type {\n",
       "        vertical-align: middle;\n",
       "    }\n",
       "\n",
       "    .dataframe tbody tr th {\n",
       "        vertical-align: top;\n",
       "    }\n",
       "\n",
       "    .dataframe thead th {\n",
       "        text-align: right;\n",
       "    }\n",
       "</style>\n",
       "<table border=\"1\" class=\"dataframe\">\n",
       "  <thead>\n",
       "    <tr style=\"text-align: right;\">\n",
       "      <th></th>\n",
       "      <th>Price</th>\n",
       "      <th>Open</th>\n",
       "      <th>High</th>\n",
       "      <th>Low</th>\n",
       "      <th>US CPI</th>\n",
       "      <th>China CPI</th>\n",
       "      <th>US PMI</th>\n",
       "      <th>China PMI</th>\n",
       "    </tr>\n",
       "  </thead>\n",
       "  <tbody>\n",
       "    <tr>\n",
       "      <th>count</th>\n",
       "      <td>14928.000000</td>\n",
       "      <td>14928.000000</td>\n",
       "      <td>14928.000000</td>\n",
       "      <td>14928.000000</td>\n",
       "      <td>14928.000000</td>\n",
       "      <td>14928.000000</td>\n",
       "      <td>14928.000000</td>\n",
       "      <td>14928.000000</td>\n",
       "    </tr>\n",
       "    <tr>\n",
       "      <th>mean</th>\n",
       "      <td>11675.353999</td>\n",
       "      <td>11675.556693</td>\n",
       "      <td>11738.159450</td>\n",
       "      <td>11609.762911</td>\n",
       "      <td>112.731793</td>\n",
       "      <td>90.784734</td>\n",
       "      <td>53.440287</td>\n",
       "      <td>50.652693</td>\n",
       "    </tr>\n",
       "    <tr>\n",
       "      <th>std</th>\n",
       "      <td>8620.380610</td>\n",
       "      <td>8627.157952</td>\n",
       "      <td>8649.762122</td>\n",
       "      <td>8593.869623</td>\n",
       "      <td>10.922922</td>\n",
       "      <td>8.582517</td>\n",
       "      <td>5.496316</td>\n",
       "      <td>2.249782</td>\n",
       "    </tr>\n",
       "    <tr>\n",
       "      <th>min</th>\n",
       "      <td>848.000000</td>\n",
       "      <td>848.000000</td>\n",
       "      <td>848.000000</td>\n",
       "      <td>848.000000</td>\n",
       "      <td>96.410318</td>\n",
       "      <td>74.960150</td>\n",
       "      <td>32.400000</td>\n",
       "      <td>35.700000</td>\n",
       "    </tr>\n",
       "    <tr>\n",
       "      <th>25%</th>\n",
       "      <td>2868.000000</td>\n",
       "      <td>2868.000000</td>\n",
       "      <td>2868.000000</td>\n",
       "      <td>2868.000000</td>\n",
       "      <td>105.392893</td>\n",
       "      <td>84.520710</td>\n",
       "      <td>50.600000</td>\n",
       "      <td>50.000000</td>\n",
       "    </tr>\n",
       "    <tr>\n",
       "      <th>50%</th>\n",
       "      <td>9520.000000</td>\n",
       "      <td>9525.250000</td>\n",
       "      <td>9555.500000</td>\n",
       "      <td>9499.000000</td>\n",
       "      <td>109.724818</td>\n",
       "      <td>91.083430</td>\n",
       "      <td>53.600000</td>\n",
       "      <td>50.600000</td>\n",
       "    </tr>\n",
       "    <tr>\n",
       "      <th>75%</th>\n",
       "      <td>18405.500000</td>\n",
       "      <td>18394.000000</td>\n",
       "      <td>18510.625000</td>\n",
       "      <td>18301.250000</td>\n",
       "      <td>117.847979</td>\n",
       "      <td>98.972540</td>\n",
       "      <td>57.300000</td>\n",
       "      <td>51.500000</td>\n",
       "    </tr>\n",
       "    <tr>\n",
       "      <th>max</th>\n",
       "      <td>81051.500000</td>\n",
       "      <td>81066.500000</td>\n",
       "      <td>86791.500000</td>\n",
       "      <td>81031.500000</td>\n",
       "      <td>140.801768</td>\n",
       "      <td>104.000000</td>\n",
       "      <td>64.700000</td>\n",
       "      <td>56.600000</td>\n",
       "    </tr>\n",
       "  </tbody>\n",
       "</table>\n",
       "</div>"
      ],
      "text/plain": [
       "              Price          Open          High           Low        US CPI  \\\n",
       "count  14928.000000  14928.000000  14928.000000  14928.000000  14928.000000   \n",
       "mean   11675.353999  11675.556693  11738.159450  11609.762911    112.731793   \n",
       "std     8620.380610   8627.157952   8649.762122   8593.869623     10.922922   \n",
       "min      848.000000    848.000000    848.000000    848.000000     96.410318   \n",
       "25%     2868.000000   2868.000000   2868.000000   2868.000000    105.392893   \n",
       "50%     9520.000000   9525.250000   9555.500000   9499.000000    109.724818   \n",
       "75%    18405.500000  18394.000000  18510.625000  18301.250000    117.847979   \n",
       "max    81051.500000  81066.500000  86791.500000  81031.500000    140.801768   \n",
       "\n",
       "          China CPI        US PMI     China PMI  \n",
       "count  14928.000000  14928.000000  14928.000000  \n",
       "mean      90.784734     53.440287     50.652693  \n",
       "std        8.582517      5.496316      2.249782  \n",
       "min       74.960150     32.400000     35.700000  \n",
       "25%       84.520710     50.600000     50.000000  \n",
       "50%       91.083430     53.600000     50.600000  \n",
       "75%       98.972540     57.300000     51.500000  \n",
       "max      104.000000     64.700000     56.600000  "
      ]
     },
     "execution_count": 4,
     "metadata": {},
     "output_type": "execute_result"
    }
   ],
   "source": [
    "dataset.describe()"
   ]
  },
  {
   "cell_type": "code",
   "execution_count": 5,
   "metadata": {},
   "outputs": [
    {
     "name": "stdout",
     "output_type": "stream",
     "text": [
      "Unique values for Commodity: ['Tin' 'Nickel' 'Lead' 'Copper']\n"
     ]
    }
   ],
   "source": [
    "for col in [\"Commodity\"]:\n",
    "    print(f\"Unique values for {col}: {dataset[col].unique()}\")"
   ]
  },
  {
   "cell_type": "code",
   "execution_count": 6,
   "metadata": {},
   "outputs": [],
   "source": [
    "import matplotlib\n",
    "matplotlib.use('TkAgg')\n",
    "sns.heatmap(dataset.corr(numeric_only=True))\n",
    "plt.show()"
   ]
  },
  {
   "cell_type": "code",
   "execution_count": 7,
   "metadata": {},
   "outputs": [
    {
     "name": "stderr",
     "output_type": "stream",
     "text": [
      "/Users/alishadaredia/opt/anaconda3/lib/python3.9/site-packages/numba/core/decorators.py:262: NumbaDeprecationWarning: \u001b[1mnumba.generated_jit is deprecated. Please see the documentation at: https://numba.readthedocs.io/en/stable/reference/deprecation.html#deprecation-of-generated-jit for more information and advice on a suitable replacement.\u001b[0m\n",
      "  warnings.warn(msg, NumbaDeprecationWarning)\n",
      "/Users/alishadaredia/opt/anaconda3/lib/python3.9/site-packages/visions/backends/shared/nan_handling.py:51: NumbaDeprecationWarning: \u001b[1mThe 'nopython' keyword argument was not supplied to the 'numba.jit' decorator. The implicit default value for this argument is currently False, but it will be changed to True in Numba 0.59.0. See https://numba.readthedocs.io/en/stable/reference/deprecation.html#deprecation-of-object-mode-fall-back-behaviour-when-using-jit for details.\u001b[0m\n",
      "  def hasna(x: np.ndarray) -> bool:\n",
      "/var/folders/bk/6666c1x143v01stjr104px_r0000gn/T/ipykernel_65734/100127969.py:1: DeprecationWarning: `import pandas_profiling` is going to be deprecated by April 1st. Please use `import ydata_profiling` instead.\n",
      "  import pandas_profiling\n"
     ]
    },
    {
     "data": {
      "application/vnd.jupyter.widget-view+json": {
       "model_id": "a4d556d8abac4ac4b9e86ea18fccfbae",
       "version_major": 2,
       "version_minor": 0
      },
      "text/plain": [
       "Summarize dataset:   0%|          | 0/5 [00:00<?, ?it/s]"
      ]
     },
     "metadata": {},
     "output_type": "display_data"
    },
    {
     "data": {
      "application/vnd.jupyter.widget-view+json": {
       "model_id": "8b2f18fc5dee4584a13fbde3925f7cad",
       "version_major": 2,
       "version_minor": 0
      },
      "text/plain": [
       "Generate report structure:   0%|          | 0/1 [00:00<?, ?it/s]"
      ]
     },
     "metadata": {},
     "output_type": "display_data"
    },
    {
     "data": {
      "application/vnd.jupyter.widget-view+json": {
       "model_id": "48875dcfbf6d453aa6dc8a9fdd9fc5ce",
       "version_major": 2,
       "version_minor": 0
      },
      "text/plain": [
       "Render HTML:   0%|          | 0/1 [00:00<?, ?it/s]"
      ]
     },
     "metadata": {},
     "output_type": "display_data"
    },
    {
     "data": {
      "application/vnd.jupyter.widget-view+json": {
       "model_id": "35f9105bb00149aca07c2e84f70d743d",
       "version_major": 2,
       "version_minor": 0
      },
      "text/plain": [
       "Export report to file:   0%|          | 0/1 [00:00<?, ?it/s]"
      ]
     },
     "metadata": {},
     "output_type": "display_data"
    }
   ],
   "source": [
    "import pandas_profiling\n",
    "\n",
    "# Generate profile report\n",
    "profile = pandas_profiling.ProfileReport(dataset)\n",
    "\n",
    "# Output report to HTML file\n",
    "profile.to_file(\"MetalPrice_EDAoutput.html\")"
   ]
  },
  {
   "cell_type": "code",
   "execution_count": 8,
   "metadata": {},
   "outputs": [
    {
     "data": {
      "text/html": [
       "<div>\n",
       "<style scoped>\n",
       "    .dataframe tbody tr th:only-of-type {\n",
       "        vertical-align: middle;\n",
       "    }\n",
       "\n",
       "    .dataframe tbody tr th {\n",
       "        vertical-align: top;\n",
       "    }\n",
       "\n",
       "    .dataframe thead th {\n",
       "        text-align: right;\n",
       "    }\n",
       "</style>\n",
       "<table border=\"1\" class=\"dataframe\">\n",
       "  <thead>\n",
       "    <tr style=\"text-align: right;\">\n",
       "      <th></th>\n",
       "      <th>Date</th>\n",
       "      <th>Price</th>\n",
       "      <th>Open</th>\n",
       "      <th>High</th>\n",
       "      <th>Low</th>\n",
       "      <th>Vol.</th>\n",
       "      <th>Change %</th>\n",
       "      <th>Commodity</th>\n",
       "      <th>US CPI</th>\n",
       "      <th>China CPI</th>\n",
       "      <th>US PMI</th>\n",
       "      <th>China PMI</th>\n",
       "    </tr>\n",
       "  </thead>\n",
       "  <tbody>\n",
       "    <tr>\n",
       "      <th>0</th>\n",
       "      <td>2023-08-31</td>\n",
       "      <td>25396.0</td>\n",
       "      <td>25300.0</td>\n",
       "      <td>25150.0</td>\n",
       "      <td>25110.0</td>\n",
       "      <td>1.25K</td>\n",
       "      <td>-0.31%</td>\n",
       "      <td>Tin</td>\n",
       "      <td>140.801768</td>\n",
       "      <td>103.2</td>\n",
       "      <td>47.6</td>\n",
       "      <td>49.7</td>\n",
       "    </tr>\n",
       "    <tr>\n",
       "      <th>1</th>\n",
       "      <td>2023-08-30</td>\n",
       "      <td>25475.0</td>\n",
       "      <td>25400.0</td>\n",
       "      <td>25300.0</td>\n",
       "      <td>25325.0</td>\n",
       "      <td>1.27K</td>\n",
       "      <td>0.32%</td>\n",
       "      <td>Tin</td>\n",
       "      <td>140.801768</td>\n",
       "      <td>103.2</td>\n",
       "      <td>47.6</td>\n",
       "      <td>49.7</td>\n",
       "    </tr>\n",
       "    <tr>\n",
       "      <th>2</th>\n",
       "      <td>2023-08-29</td>\n",
       "      <td>25395.0</td>\n",
       "      <td>25200.0</td>\n",
       "      <td>25050.0</td>\n",
       "      <td>25055.0</td>\n",
       "      <td>1.32K</td>\n",
       "      <td>-0.40%</td>\n",
       "      <td>Tin</td>\n",
       "      <td>140.801768</td>\n",
       "      <td>103.2</td>\n",
       "      <td>47.6</td>\n",
       "      <td>49.7</td>\n",
       "    </tr>\n",
       "    <tr>\n",
       "      <th>3</th>\n",
       "      <td>2023-08-25</td>\n",
       "      <td>25497.0</td>\n",
       "      <td>25600.0</td>\n",
       "      <td>25500.0</td>\n",
       "      <td>25575.0</td>\n",
       "      <td>0.59K</td>\n",
       "      <td>-1.44%</td>\n",
       "      <td>Tin</td>\n",
       "      <td>140.801768</td>\n",
       "      <td>103.2</td>\n",
       "      <td>47.6</td>\n",
       "      <td>49.7</td>\n",
       "    </tr>\n",
       "    <tr>\n",
       "      <th>4</th>\n",
       "      <td>2023-08-24</td>\n",
       "      <td>25870.0</td>\n",
       "      <td>25900.0</td>\n",
       "      <td>25825.0</td>\n",
       "      <td>25850.0</td>\n",
       "      <td>0.39K</td>\n",
       "      <td>-0.98%</td>\n",
       "      <td>Tin</td>\n",
       "      <td>140.801768</td>\n",
       "      <td>103.2</td>\n",
       "      <td>47.6</td>\n",
       "      <td>49.7</td>\n",
       "    </tr>\n",
       "  </tbody>\n",
       "</table>\n",
       "</div>"
      ],
      "text/plain": [
       "        Date    Price     Open     High      Low   Vol. Change % Commodity  \\\n",
       "0 2023-08-31  25396.0  25300.0  25150.0  25110.0  1.25K   -0.31%       Tin   \n",
       "1 2023-08-30  25475.0  25400.0  25300.0  25325.0  1.27K    0.32%       Tin   \n",
       "2 2023-08-29  25395.0  25200.0  25050.0  25055.0  1.32K   -0.40%       Tin   \n",
       "3 2023-08-25  25497.0  25600.0  25500.0  25575.0  0.59K   -1.44%       Tin   \n",
       "4 2023-08-24  25870.0  25900.0  25825.0  25850.0  0.39K   -0.98%       Tin   \n",
       "\n",
       "       US CPI  China CPI  US PMI  China PMI  \n",
       "0  140.801768      103.2    47.6       49.7  \n",
       "1  140.801768      103.2    47.6       49.7  \n",
       "2  140.801768      103.2    47.6       49.7  \n",
       "3  140.801768      103.2    47.6       49.7  \n",
       "4  140.801768      103.2    47.6       49.7  "
      ]
     },
     "execution_count": 8,
     "metadata": {},
     "output_type": "execute_result"
    }
   ],
   "source": [
    "dataset.head()"
   ]
  },
  {
   "cell_type": "code",
   "execution_count": 7,
   "metadata": {},
   "outputs": [],
   "source": [
    "for name, group in dataset.groupby('Commodity'):\n",
    "    plt.hist(group['Open'], label=name)\n",
    "    \n",
    "plt.show()"
   ]
  },
  {
   "cell_type": "code",
   "execution_count": 8,
   "metadata": {},
   "outputs": [],
   "source": [
    "# Create a figure and axis\n",
    "fig, ax = plt.subplots()\n",
    "\n",
    "# Iterate through groups and plot histograms\n",
    "for name, group in dataset.groupby('Commodity'):\n",
    "    ax.hist(group['Price'], label=name, alpha=0.5)  \n",
    "\n",
    "# Add axis titles and labels\n",
    "ax.set_xlabel('Close Price')\n",
    "ax.set_ylabel('Frequency')\n",
    "\n",
    "# Add a legend\n",
    "ax.legend()\n",
    "\n",
    "plt.show()\n"
   ]
  },
  {
   "cell_type": "code",
   "execution_count": 9,
   "metadata": {},
   "outputs": [
    {
     "data": {
      "text/plain": [
       "0"
      ]
     },
     "execution_count": 9,
     "metadata": {},
     "output_type": "execute_result"
    }
   ],
   "source": [
    "#Check the duplicates\n",
    "dataset.duplicated().sum()"
   ]
  },
  {
   "cell_type": "code",
   "execution_count": 10,
   "metadata": {},
   "outputs": [
    {
     "data": {
      "text/plain": [
       "Date            0\n",
       "Price           0\n",
       "Open            0\n",
       "High            0\n",
       "Low             0\n",
       "Vol.         7267\n",
       "Change %        0\n",
       "Commodity       0\n",
       "US CPI          0\n",
       "China CPI       0\n",
       "US PMI          0\n",
       "China PMI       0\n",
       "dtype: int64"
      ]
     },
     "execution_count": 10,
     "metadata": {},
     "output_type": "execute_result"
    }
   ],
   "source": [
    "#Check the null values\n",
    "\n",
    "dataset.isnull().sum()"
   ]
  },
  {
   "cell_type": "code",
   "execution_count": 11,
   "metadata": {},
   "outputs": [],
   "source": [
    "plt.figure(figsize=(15,10))\n",
    "sns.heatmap(dataset.corr(numeric_only=True), annot = True)\n",
    "\n",
    "plt.show()"
   ]
  },
  {
   "cell_type": "code",
   "execution_count": 20,
   "metadata": {},
   "outputs": [],
   "source": [
    "# Convert 'Date' column to datetime and set it as the index\n",
    "dataset['Date'] = pd.to_datetime(dataset['Date'])\n",
    "dataset.set_index('Date', inplace=True)\n",
    "\n",
    "# Resample to a monthly frequency, considering only values on the 1st of every month\n",
    "monthly_cpi = dataset['US CPI'].resample('MS').mean()\n",
    "\n",
    "# Create a line plot for the trend\n",
    "plt.figure(figsize=(10, 6))\n",
    "plt.plot(monthly_cpi.index, monthly_cpi, marker='o', linestyle='-')\n",
    "plt.title('US CPI Trend (Monthly)')\n",
    "plt.xlabel('Date')\n",
    "plt.ylabel('US CPI')\n",
    "plt.grid(True)\n",
    "\n",
    "plt.show()"
   ]
  },
  {
   "cell_type": "code",
   "execution_count": null,
   "metadata": {},
   "outputs": [],
   "source": [
    "# Convert 'Date' column to datetime and set it as the index\n",
    "dataset['Date'] = pd.to_datetime(dataset['Date'])\n",
    "dataset.set_index('Date', inplace=True)\n",
    "\n",
    "# Resample to a monthly frequency, considering only values on the 1st of every month\n",
    "monthly_cpi = dataset['China CPI'].resample('MS').mean()\n",
    "\n",
    "# Create a line plot for the trend\n",
    "plt.figure(figsize=(10, 6))\n",
    "plt.plot(monthly_cpi.index, monthly_cpi, marker='o', linestyle='-')\n",
    "plt.title('China CPI Trend (Monthly)')\n",
    "plt.xlabel('Date')\n",
    "plt.ylabel('China CPI')\n",
    "plt.grid(True)\n",
    "\n",
    "plt.show()"
   ]
  },
  {
   "cell_type": "code",
   "execution_count": null,
   "metadata": {},
   "outputs": [],
   "source": []
  },
  {
   "cell_type": "code",
   "execution_count": null,
   "metadata": {},
   "outputs": [],
   "source": []
  },
  {
   "cell_type": "code",
   "execution_count": null,
   "metadata": {},
   "outputs": [],
   "source": []
  },
  {
   "cell_type": "code",
   "execution_count": null,
   "metadata": {},
   "outputs": [],
   "source": []
  },
  {
   "cell_type": "code",
   "execution_count": null,
   "metadata": {},
   "outputs": [],
   "source": []
  },
  {
   "cell_type": "code",
   "execution_count": null,
   "metadata": {},
   "outputs": [],
   "source": []
  },
  {
   "cell_type": "code",
   "execution_count": null,
   "metadata": {},
   "outputs": [],
   "source": []
  }
 ],
 "metadata": {
  "interpreter": {
   "hash": "aee8b7b246df8f9039afb4144a1f6fd8d2ca17a180786b69acc140d282b71a49"
  },
  "kernelspec": {
   "display_name": "Python 3 (ipykernel)",
   "language": "python",
   "name": "python3"
  },
  "language_info": {
   "codemirror_mode": {
    "name": "ipython",
    "version": 3
   },
   "file_extension": ".py",
   "mimetype": "text/x-python",
   "name": "python",
   "nbconvert_exporter": "python",
   "pygments_lexer": "ipython3",
   "version": "3.9.7"
  }
 },
 "nbformat": 4,
 "nbformat_minor": 2
}
